{
 "cells": [
  {
   "cell_type": "code",
   "execution_count": 4,
   "metadata": {},
   "outputs": [],
   "source": [
    "import sklearn\n",
    "import pandas as pd\n",
    "import pymorphy2\n",
    "\n",
    "p_data = pd.read_csv('data/positive.csv', sep=';', header=None)\n",
    "n_data = pd.read_csv('data/negative.csv', sep=';', header=None)\n",
    "\n"
   ]
  },
  {
   "cell_type": "code",
   "execution_count": 5,
   "metadata": {},
   "outputs": [],
   "source": [
    "dataset = pd.concat([p_data, n_data])\n",
    "dataset = dataset[[3, 4]]\n",
    "\n",
    "dataset.columns = ['text', 'label']\n",
    "\n",
    "morph = pymorphy2.MorphAnalyzer()\n",
    "\n"
   ]
  },
  {
   "cell_type": "code",
   "execution_count": null,
   "metadata": {},
   "outputs": [],
   "source": [
    "# def text_cleaner(text):\n",
    "    # к нижнему регистру\n",
    "    text = text.lower()\n",
    "    \n",
    "    # оставляем в предложении только русские буквы (таким образом\n",
    "    # удалим и ссылки, и имена пользователей, и пунктуацию и т.д.)\n",
    "    alph = 'абвгдеёжзийклмнопрстуфхцчшщъыьэюя'\n",
    "    \n",
    "    cleaned_text = ''\n",
    "    for char in text:\n",
    "        if (char.isalpha() and char[0] in alph) or (char == ' '):\n",
    "            cleaned_text += char\n",
    "        \n",
    "    result = []\n",
    "    for word in cleaned_text.split():\n",
    "        # лемматизируем\n",
    "        result.append(morph.parse(word)[0].normal_form)\n",
    "                              \n",
    "    return ' '.join(result)\n",
    "\n",
    "dataset['text'] = dataset['text'].apply(text_cleaner)\n",
    "\n",
    "dataset.to_csv('data/cleaned_data.csv')\n",
    "print(result)"
   ]
  },
  {
   "cell_type": "code",
   "execution_count": null,
   "metadata": {},
   "outputs": [],
   "source": []
  }
 ],
 "metadata": {
  "kernelspec": {
   "display_name": "Python 3",
   "language": "python",
   "name": "python3"
  },
  "language_info": {
   "codemirror_mode": {
    "name": "ipython",
    "version": 3
   },
   "file_extension": ".py",
   "mimetype": "text/x-python",
   "name": "python",
   "nbconvert_exporter": "python",
   "pygments_lexer": "ipython3",
   "version": "3.6.4"
  }
 },
 "nbformat": 4,
 "nbformat_minor": 2
}
