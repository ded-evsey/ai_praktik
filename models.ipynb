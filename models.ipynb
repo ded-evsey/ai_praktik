{
 "cells": [
  {
   "cell_type": "code",
   "execution_count": null,
   "metadata": {},
   "outputs": [],
   "source": [
    "from sklearn.feature_extraction.text import CountVectorizer\n",
    "from sklearn.feature_extraction.text import TfidfVectorizer\n",
    "\n",
    "from sklearn.grid_search import GridSearchCV\n",
    "from sklearn.cross_validation import ShuffleSplit, cross_val_score\n",
    "\n",
    "from sklearn.naive_bayes import MultinomialNB\n",
    "from sklearn.linear_model import SGDClassifier\n",
    "\n",
    "import pandas as pd\n",
    "\n",
    "\n",
    "# считываем подготовленный датасет\n",
    "dataset = pd.read_csv('data/cleaned_data.csv', index_col=0).dropna()\n",
    "\n",
    "# массив n-граммных схем, которые будут использоваться в работе\n",
    "# например, (1, 3) означает униграммы + биграммы + триграммы\n",
    "ngram_schemes = [(1, 1), (1, 2), (1, 3), (1, 4), (1, 5), (1, 6)]\n",
    "\n"
   ]
  },
  {
   "cell_type": "code",
   "execution_count": null,
   "metadata": {},
   "outputs": [],
   "source": [
    "for ngram_scheme in ngram_schemes:\n",
    "\n",
    "\tprint('N-gram Scheme:', ngram_scheme)\n",
    "\n",
    "\tcount_vectorizer = CountVectorizer(analyzer = \"word\", ngram_range=ngram_scheme) \n",
    "\ttfidf_vectorizer = TfidfVectorizer(analyzer = \"word\", ngram_range=ngram_scheme)\n",
    "\n",
    "\tvectorizers = [count_vectorizer, tfidf_vectorizer]\n",
    "\tvectorizers_names = ['Count Vectorizer', 'TF-IDF Vectorizer']\n",
    "\n",
    "\tfor i in range(len(vectorizers)):\n",
    "\t\tprint(vectorizers_names[i])\n",
    "\t\tvectorizer = vectorizers[i]\n",
    "\n",
    "\t\tX = vectorizer.fit_transform(dataset['text'])\n",
    "\t\ty = dataset['label']\n",
    "\n",
    "\t\tcv = ShuffleSplit(len(y), n_iter=5, test_size=0.3, random_state=0)\n",
    "\n",
    "\t\t# наивный байес\n",
    "\t\tclf = MultinomialNB()\n",
    "\t\tNB_result = cross_val_score(clf, X, y, cv=cv).mean()\n",
    "\n",
    "\t\t# линейный классификатор\n",
    "\t\tclf = SGDClassifier()\n",
    "\n",
    "\t\tparameters = {\n",
    "\t\t    'loss': ('log', 'hinge'),\n",
    "\t\t    'penalty': ['none', 'l1', 'l2', 'elasticnet'],\n",
    "\t\t    'alpha': [0.001, 0.0001, 0.00001, 0.000001]\n",
    "\t\t}\n",
    "\n",
    "\t\tgs_clf = GridSearchCV(clf, parameters, cv=cv, n_jobs=-1)\n",
    "\t\tgs_clf = gs_clf.fit(X, y)\n",
    "\n",
    "\t\tL_result = gs_clf.best_score_\n",
    "\n",
    "\t\tprint('NB:', NB_result.mean())\n",
    "\t\tprint('Linear:', L_result)\n",
    "\t\tprint('Linear Parameters:', gs_clf.best_params_)\n",
    "\t\tprint()"
   ]
  }
 ],
 "metadata": {
  "kernelspec": {
   "display_name": "Python 3",
   "language": "python",
   "name": "python3"
  },
  "language_info": {
   "codemirror_mode": {
    "name": "ipython",
    "version": 3
   },
   "file_extension": ".py",
   "mimetype": "text/x-python",
   "name": "python",
   "nbconvert_exporter": "python",
   "pygments_lexer": "ipython3",
   "version": "3.6.4"
  }
 },
 "nbformat": 4,
 "nbformat_minor": 2
}
