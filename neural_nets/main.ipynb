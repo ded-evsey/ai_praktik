{
 "cells": [
  {
   "cell_type": "code",
   "execution_count": 6,
   "metadata": {},
   "outputs": [],
   "source": [
    "from sklearn.cross_validation import train_test_split\n",
    "from keras.preprocessing import sequence\n",
    "import pandas \n",
    "import os\n",
    "import numpy as np\n",
    "import nets\n",
    "\n"
   ]
  },
  {
   "cell_type": "code",
   "execution_count": 8,
   "metadata": {},
   "outputs": [],
   "source": [
    "# загружаем датасет\n",
    "dataset = pandas.read_csv('../data/cleaned_data.csv', index_col=0).dropna()\n"
   ]
  },
  {
   "cell_type": "code",
   "execution_count": 9,
   "metadata": {},
   "outputs": [
    {
     "data": {
      "text/plain": [
       "'\\nНеобходимо подготовить датасет к работе с сеткой. А именно:\\n\\n1. Создать словарь всех слов, а в идеале ещё и отранжировать его по\\nчастоте встречаемости слов (в этой работе словарь не ранжировался).\\n\\n2. Заменить строки на списки целых чисел, которые соответствуют номерам слов\\nв словаре + 1. Например, предложение \"hello world\" заменится на [1, 2], если\\nв словаре слово \"hello\" имеет индекс 0, а \"world\" - 1.\\n\\n3. Применить метод pad_sequences к полученным спискам, чтобы выровнять по длине\\nчисленные векторы (наши численные представления строк). Переменная\\nmax_length устанавливает максимальную длину вектора. Недостающие значение будут\\nобнуляться. Например, после применения метода [[1, 2, 3, 4, 5], [1, 2, 3]]\\nпревратится в [[1, 2, 3, 4, 5], [0, 0, 1, 2, 3]].\\n'"
      ]
     },
     "execution_count": 9,
     "metadata": {},
     "output_type": "execute_result"
    }
   ],
   "source": [
    "\n",
    "'''\n",
    "Необходимо подготовить датасет к работе с сеткой. А именно:\n",
    "\n",
    "1. Создать словарь всех слов, а в идеале ещё и отранжировать его по\n",
    "частоте встречаемости слов (в этой работе словарь не ранжировался).\n",
    "\n",
    "2. Заменить строки на списки целых чисел, которые соответствуют номерам слов\n",
    "в словаре + 1. Например, предложение \"hello world\" заменится на [1, 2], если\n",
    "в словаре слово \"hello\" имеет индекс 0, а \"world\" - 1.\n",
    "\n",
    "3. Применить метод pad_sequences к полученным спискам, чтобы выровнять по длине\n",
    "численные векторы (наши численные представления строк). Переменная\n",
    "max_length устанавливает максимальную длину вектора. Недостающие значение будут\n",
    "обнуляться. Например, после применения метода [[1, 2, 3, 4, 5], [1, 2, 3]]\n",
    "превратится в [[1, 2, 3, 4, 5], [0, 0, 1, 2, 3]].\n",
    "'''\n",
    "\n"
   ]
  },
  {
   "cell_type": "code",
   "execution_count": null,
   "metadata": {},
   "outputs": [],
   "source": [
    "# количество объектов в новом датасете\n",
    "n = 20000\n",
    "# максимальная длина вектора в новом датасете\n",
    "max_length = 150\n",
    "\n",
    "X = []\n",
    "y = []\n",
    "dictionary = []\n",
    "\n",
    "dataset['label'].replace(-1, 0, inplace=True)\n",
    "dataset = dataset.sample(frac=1)\n",
    "tpls = list(dataset.itertuples())[:n]\n",
    "\n",
    "for tpl in tpls:\n",
    "    row = []\n",
    "    for word in tpl[1]:\n",
    "        if word not in dictionary:\n",
    "            dictionary.append(word)\n",
    "        row.append(dictionary.index(word) + 1)\n",
    "\n",
    "    X.append(row)\n",
    "    y.append(tpl[2])\n",
    "\n",
    "X = sequence.pad_sequences(np.array(X), maxlen=max_length)\n",
    "y = np.array(y)\n",
    "\n",
    "X_train, X_test, y_train, y_test = train_test_split(X, y, test_size=0.20)\n",
    "\n",
    "model = nets.get_simple_net(len(dictionary), max_length)\n",
    "model.fit(X_train, y_train, validation_data=(X_test, y_test), batch_size=64, nb_epoch=1)\n",
    "\n",
    "# выводим оценку\n",
    "scores = model.evaluate(X_test, y_test, verbose=0)\n",
    "print(\"Accuracy: %.2f%%\" % (scores[1]*100))\n"
   ]
  },
  {
   "cell_type": "code",
   "execution_count": null,
   "metadata": {},
   "outputs": [],
   "source": []
  }
 ],
 "metadata": {
  "kernelspec": {
   "display_name": "Python 3",
   "language": "python",
   "name": "python3"
  },
  "language_info": {
   "codemirror_mode": {
    "name": "ipython",
    "version": 3
   },
   "file_extension": ".py",
   "mimetype": "text/x-python",
   "name": "python",
   "nbconvert_exporter": "python",
   "pygments_lexer": "ipython3",
   "version": "3.6.4"
  }
 },
 "nbformat": 4,
 "nbformat_minor": 2
}
